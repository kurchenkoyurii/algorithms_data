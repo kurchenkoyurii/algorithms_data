{
 "cells": [
  {
   "cell_type": "code",
   "execution_count": 26,
   "id": "fd61cefe",
   "metadata": {},
   "outputs": [],
   "source": [
    "class Solution:\n",
    "    def getConcatenation(self, nums):\n",
    "        ans=[]\n",
    "        for i in range(2):\n",
    "            for n in nums:\n",
    "                ans.append(n)\n",
    "        return ans\n",
    "        "
   ]
  },
  {
   "cell_type": "code",
   "execution_count": 25,
   "id": "8ab8cc0a",
   "metadata": {},
   "outputs": [],
   "source": [
    "nums = [1,2,1]"
   ]
  },
  {
   "cell_type": "code",
   "execution_count": 27,
   "id": "d53793ee",
   "metadata": {},
   "outputs": [
    {
     "data": {
      "text/plain": [
       "[1, 2, 1, 1, 2, 1]"
      ]
     },
     "execution_count": 27,
     "metadata": {},
     "output_type": "execute_result"
    }
   ],
   "source": [
    "a=Solution\n",
    "a.getConcatenation(a,nums)"
   ]
  }
 ],
 "metadata": {
  "kernelspec": {
   "display_name": "Python 3 (ipykernel)",
   "language": "python",
   "name": "python3"
  },
  "language_info": {
   "codemirror_mode": {
    "name": "ipython",
    "version": 3
   },
   "file_extension": ".py",
   "mimetype": "text/x-python",
   "name": "python",
   "nbconvert_exporter": "python",
   "pygments_lexer": "ipython3",
   "version": "3.9.12"
  }
 },
 "nbformat": 4,
 "nbformat_minor": 5
}
