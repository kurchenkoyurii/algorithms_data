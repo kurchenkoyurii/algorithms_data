{
 "cells": [
  {
   "cell_type": "markdown",
   "id": "19b25ac1",
   "metadata": {},
   "source": [
    "# My solution"
   ]
  },
  {
   "cell_type": "code",
   "execution_count": 25,
   "id": "819455c6",
   "metadata": {},
   "outputs": [],
   "source": [
    "s = \"()[]{}\""
   ]
  },
  {
   "cell_type": "code",
   "execution_count": 23,
   "id": "6a009826",
   "metadata": {},
   "outputs": [],
   "source": [
    "def isValid(s):\n",
    "        if len(s)<2:\n",
    "            return False\n",
    "        d={\n",
    "            '(':')',\n",
    "            '{':'}',\n",
    "            '[':']',\n",
    "        }\n",
    "        for i,j in zip(s[::2], s[1::2]):\n",
    "            if j!=d[i]:\n",
    "                return False\n",
    "        return True\n",
    "        "
   ]
  },
  {
   "cell_type": "code",
   "execution_count": 17,
   "id": "8932ecfe",
   "metadata": {},
   "outputs": [],
   "source": [
    "s = \"()[]{\"\n"
   ]
  },
  {
   "cell_type": "code",
   "execution_count": 24,
   "id": "8e39bbb3",
   "metadata": {},
   "outputs": [
    {
     "name": "stdout",
     "output_type": "stream",
     "text": [
      "True\n"
     ]
    }
   ],
   "source": [
    "print(isValid(s))"
   ]
  },
  {
   "cell_type": "markdown",
   "id": "09f4a96b",
   "metadata": {},
   "source": [
    "# Another solution"
   ]
  },
  {
   "cell_type": "code",
   "execution_count": 72,
   "id": "fb0d2679",
   "metadata": {},
   "outputs": [],
   "source": [
    "    s = \"()[]{}\""
   ]
  },
  {
   "cell_type": "code",
   "execution_count": 81,
   "id": "5dbee960",
   "metadata": {},
   "outputs": [],
   "source": [
    "def isValid(s):\n",
    "    close_to_open={\n",
    "            ')':'(',\n",
    "            '}':'{',\n",
    "            ']':'[',\n",
    "        }\n",
    "    stack=[]\n",
    "    for c in s :\n",
    "        print('c:', c)\n",
    "        if c in close_to_open:\n",
    "            print('stack:',stack[0])\n",
    "            print('stack[-1]:',stack[-1])\n",
    "            print('close_to_open[c]:', close_to_open[c])\n",
    "            if stack and stack[-1]==close_to_open[c]:\n",
    "                print('stack:',stack[0])\n",
    "                print('stack[-1]:',stack[-1])\n",
    "                print('close_to_open[c]:', close_to_open[c])\n",
    "                stack.pop()\n",
    "                print('find', c)\n",
    "            else:\n",
    "                return 'FALSE'\n",
    "\n",
    "        else:\n",
    "            stack.append(c)\n",
    "            print('stack:',stack)\n",
    "    return 'TRUE' if not stack else \"FAALSE\"\n",
    "        "
   ]
  },
  {
   "cell_type": "code",
   "execution_count": 83,
   "id": "bb432308",
   "metadata": {},
   "outputs": [
    {
     "name": "stdout",
     "output_type": "stream",
     "text": [
      "c: [\n",
      "stack: ['[']\n",
      "c: (\n",
      "stack: ['[', '(']\n",
      "c: )\n",
      "stack: [\n",
      "stack[-1]: (\n",
      "close_to_open[c]: (\n",
      "stack: [\n",
      "stack[-1]: (\n",
      "close_to_open[c]: (\n",
      "find )\n",
      "c: ]\n",
      "stack: [\n",
      "stack[-1]: [\n",
      "close_to_open[c]: [\n",
      "stack: [\n",
      "stack[-1]: [\n",
      "close_to_open[c]: [\n",
      "find ]\n"
     ]
    },
    {
     "data": {
      "text/plain": [
       "'TRUE'"
      ]
     },
     "execution_count": 83,
     "metadata": {},
     "output_type": "execute_result"
    }
   ],
   "source": [
    "isValid('[()]')\n",
    "\n",
    "    "
   ]
  },
  {
   "cell_type": "code",
   "execution_count": 44,
   "id": "03e422ee",
   "metadata": {},
   "outputs": [],
   "source": [
    "close_to_open={\n",
    "            '1':'(',\n",
    "            '2':'{',\n",
    "            '3':'[',\n",
    "        }"
   ]
  },
  {
   "cell_type": "code",
   "execution_count": 66,
   "id": "04460d93",
   "metadata": {},
   "outputs": [
    {
     "name": "stdout",
     "output_type": "stream",
     "text": [
      "c: (\n",
      "stack: ['(']\n",
      "c: )\n",
      "stack: ['(']\n",
      "c: [\n",
      "stack: ['(']\n",
      "c: ]\n",
      "stack: ['(']\n",
      "c: {\n",
      "stack: ['(']\n",
      "c: }\n",
      "stack: ['(']\n"
     ]
    }
   ],
   "source": [
    "close_to_open={\n",
    "            ')':'(',\n",
    "            '}':'{',\n",
    "            ']':'[',\n",
    "        }\n",
    "s = \"()[]{}\"\n",
    "stack=['(']\n",
    "for c in s :\n",
    "    print('c:', c)\n",
    "    print('stack:',stack)\n",
    "    if c in close_to_open:\n",
    "        if stack or  ==close_to_open[c]:\n",
    "            print('stack:',stack)\n",
    "            print('stack[-1]:',stack[-1])\n",
    "            print('close_to_open[c]:', close_to_open[c])\n",
    "        else:\n",
    "            pass\n",
    "    \n",
    "    "
   ]
  },
  {
   "cell_type": "code",
   "execution_count": 92,
   "id": "700d0e64",
   "metadata": {},
   "outputs": [],
   "source": [
    "s=\"{}\""
   ]
  },
  {
   "cell_type": "code",
   "execution_count": 93,
   "id": "3f303694",
   "metadata": {},
   "outputs": [],
   "source": [
    "def isValid(s):\n",
    "    close_to_open={\n",
    "            ')':'(',\n",
    "            '}':'{',\n",
    "            ']':'[',\n",
    "        }\n",
    "    stack=[]\n",
    "    for i in s:\n",
    "        if i in close_to_open:\n",
    "            if stack and stack[-1]==close_to_open[i]:\n",
    "                stack.pop()\n",
    "            else:\n",
    "                return False\n",
    "        else:\n",
    "            stack.append(i)\n",
    "    return True if not stack else False"
   ]
  },
  {
   "cell_type": "code",
   "execution_count": 94,
   "id": "31bb175f",
   "metadata": {},
   "outputs": [
    {
     "data": {
      "text/plain": [
       "True"
      ]
     },
     "execution_count": 94,
     "metadata": {},
     "output_type": "execute_result"
    }
   ],
   "source": [
    "isValid(s)"
   ]
  },
  {
   "cell_type": "code",
   "execution_count": null,
   "id": "7908a3f8",
   "metadata": {},
   "outputs": [],
   "source": []
  },
  {
   "cell_type": "code",
   "execution_count": null,
   "id": "2c7ba423",
   "metadata": {},
   "outputs": [],
   "source": []
  },
  {
   "cell_type": "code",
   "execution_count": null,
   "id": "f374d0e0",
   "metadata": {},
   "outputs": [],
   "source": []
  },
  {
   "cell_type": "code",
   "execution_count": null,
   "id": "445923fc",
   "metadata": {},
   "outputs": [],
   "source": []
  },
  {
   "cell_type": "code",
   "execution_count": null,
   "id": "054f6e00",
   "metadata": {},
   "outputs": [],
   "source": []
  },
  {
   "cell_type": "code",
   "execution_count": null,
   "id": "773879f5",
   "metadata": {},
   "outputs": [],
   "source": []
  },
  {
   "cell_type": "code",
   "execution_count": null,
   "id": "db335cd9",
   "metadata": {},
   "outputs": [],
   "source": []
  },
  {
   "cell_type": "code",
   "execution_count": null,
   "id": "a159391a",
   "metadata": {},
   "outputs": [],
   "source": []
  },
  {
   "cell_type": "code",
   "execution_count": null,
   "id": "1d3a8bda",
   "metadata": {},
   "outputs": [],
   "source": []
  },
  {
   "cell_type": "code",
   "execution_count": null,
   "id": "4a91530b",
   "metadata": {},
   "outputs": [],
   "source": []
  },
  {
   "cell_type": "code",
   "execution_count": null,
   "id": "3da8d447",
   "metadata": {},
   "outputs": [],
   "source": []
  },
  {
   "cell_type": "code",
   "execution_count": null,
   "id": "8ac5a3ff",
   "metadata": {},
   "outputs": [],
   "source": []
  },
  {
   "cell_type": "code",
   "execution_count": null,
   "id": "8ec37b8b",
   "metadata": {},
   "outputs": [],
   "source": []
  },
  {
   "cell_type": "code",
   "execution_count": null,
   "id": "f3250326",
   "metadata": {},
   "outputs": [],
   "source": []
  },
  {
   "cell_type": "code",
   "execution_count": null,
   "id": "7c18616b",
   "metadata": {},
   "outputs": [],
   "source": []
  },
  {
   "cell_type": "code",
   "execution_count": null,
   "id": "dd240940",
   "metadata": {},
   "outputs": [],
   "source": []
  },
  {
   "cell_type": "code",
   "execution_count": null,
   "id": "3b1d5b1c",
   "metadata": {},
   "outputs": [],
   "source": []
  },
  {
   "cell_type": "code",
   "execution_count": null,
   "id": "66143d20",
   "metadata": {},
   "outputs": [],
   "source": []
  },
  {
   "cell_type": "code",
   "execution_count": null,
   "id": "7f2e2b83",
   "metadata": {},
   "outputs": [],
   "source": []
  },
  {
   "cell_type": "code",
   "execution_count": null,
   "id": "58c8453e",
   "metadata": {},
   "outputs": [],
   "source": []
  },
  {
   "cell_type": "code",
   "execution_count": null,
   "id": "983208cd",
   "metadata": {},
   "outputs": [],
   "source": []
  },
  {
   "cell_type": "code",
   "execution_count": null,
   "id": "6be17715",
   "metadata": {},
   "outputs": [],
   "source": []
  },
  {
   "cell_type": "code",
   "execution_count": null,
   "id": "3c6649b8",
   "metadata": {},
   "outputs": [],
   "source": []
  },
  {
   "cell_type": "code",
   "execution_count": null,
   "id": "28a0e655",
   "metadata": {},
   "outputs": [],
   "source": []
  },
  {
   "cell_type": "code",
   "execution_count": null,
   "id": "0c25e00e",
   "metadata": {},
   "outputs": [],
   "source": []
  },
  {
   "cell_type": "code",
   "execution_count": null,
   "id": "28713d0d",
   "metadata": {},
   "outputs": [],
   "source": []
  },
  {
   "cell_type": "code",
   "execution_count": null,
   "id": "f2f063b1",
   "metadata": {},
   "outputs": [],
   "source": []
  },
  {
   "cell_type": "code",
   "execution_count": null,
   "id": "32d08ebe",
   "metadata": {},
   "outputs": [],
   "source": []
  },
  {
   "cell_type": "code",
   "execution_count": null,
   "id": "751afaaa",
   "metadata": {},
   "outputs": [],
   "source": []
  },
  {
   "cell_type": "code",
   "execution_count": null,
   "id": "950bfc4e",
   "metadata": {},
   "outputs": [],
   "source": []
  },
  {
   "cell_type": "code",
   "execution_count": null,
   "id": "0de481dd",
   "metadata": {},
   "outputs": [],
   "source": []
  }
 ],
 "metadata": {
  "kernelspec": {
   "display_name": "Python 3 (ipykernel)",
   "language": "python",
   "name": "python3"
  },
  "language_info": {
   "codemirror_mode": {
    "name": "ipython",
    "version": 3
   },
   "file_extension": ".py",
   "mimetype": "text/x-python",
   "name": "python",
   "nbconvert_exporter": "python",
   "pygments_lexer": "ipython3",
   "version": "3.9.12"
  }
 },
 "nbformat": 4,
 "nbformat_minor": 5
}
