{
 "cells": [
  {
   "cell_type": "code",
   "execution_count": 89,
   "id": "fc1dcd28",
   "metadata": {},
   "outputs": [],
   "source": [
    "from collections import defaultdict                   "
   ]
  },
  {
   "cell_type": "code",
   "execution_count": 91,
   "id": "d537a58f",
   "metadata": {},
   "outputs": [],
   "source": [
    "#first brute force solution\n",
    "\n",
    "class Solution:\n",
    "    def firstUniqChar(self, s: str) -> int:\n",
    "        a=defaultdict(lambda: 0)\n",
    "        for i in range(len(s)):\n",
    "            a[s[i]]=a[s[i]]+1\n",
    "        for i in a:\n",
    "            if a[i]==1:\n",
    "                for j in range(len(s)):                  \n",
    "                    if s[j]==i:\n",
    "                        return j\n",
    "        return -1"
   ]
  },
  {
   "cell_type": "code",
   "execution_count": 92,
   "id": "5bf66b74",
   "metadata": {},
   "outputs": [
    {
     "data": {
      "text/plain": [
       "8"
      ]
     },
     "execution_count": 92,
     "metadata": {},
     "output_type": "execute_result"
    }
   ],
   "source": [
    "s = \"dddccdbba\"\n",
    "a=Solution\n",
    "a.firstUniqChar(a,s)"
   ]
  },
  {
   "cell_type": "code",
   "execution_count": 93,
   "id": "c0c12a53",
   "metadata": {},
   "outputs": [],
   "source": [
    "#second better solution\n",
    "class Solution:\n",
    "    def firstUniqChar(self, s: str) -> int:\n",
    "        # Plan\n",
    "        # count letter frequencies\n",
    "        # iterate through the string \n",
    "        # look for a letter with frequency 1\n",
    "        \n",
    "        freq = {}\n",
    "        for c in s:\n",
    "            freq[c] = 1 + freq.get(c, 0)\n",
    "        \n",
    "        for i in range(len(s)):\n",
    "            if freq[s[i]] == 1:\n",
    "                return i\n",
    "        return -1\n",
    "    \n",
    "        # T: O(2n)\n",
    "        # M: O(n)"
   ]
  },
  {
   "cell_type": "code",
   "execution_count": 94,
   "id": "af703d89",
   "metadata": {},
   "outputs": [
    {
     "data": {
      "text/plain": [
       "8"
      ]
     },
     "execution_count": 94,
     "metadata": {},
     "output_type": "execute_result"
    }
   ],
   "source": [
    "s = \"dddccdbba\"\n",
    "a=Solution\n",
    "a.firstUniqChar(a,s)"
   ]
  }
 ],
 "metadata": {
  "kernelspec": {
   "display_name": "Python 3 (ipykernel)",
   "language": "python",
   "name": "python3"
  },
  "language_info": {
   "codemirror_mode": {
    "name": "ipython",
    "version": 3
   },
   "file_extension": ".py",
   "mimetype": "text/x-python",
   "name": "python",
   "nbconvert_exporter": "python",
   "pygments_lexer": "ipython3",
   "version": "3.9.12"
  }
 },
 "nbformat": 4,
 "nbformat_minor": 5
}
