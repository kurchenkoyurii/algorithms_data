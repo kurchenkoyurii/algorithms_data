{
 "cells": [
  {
   "cell_type": "code",
   "execution_count": 77,
   "id": "7201ff32",
   "metadata": {},
   "outputs": [],
   "source": [
    "class Solution:\n",
    "    def titleToNumber(self, columnTitle: str) -> int:\n",
    "        res=0\n",
    "        l=len(columnTitle)\n",
    "        for l,r in zip(range(0,l),range(l-1,-1,-1)):\n",
    "            temp=ord(columnTitle[l])-ord('@')\n",
    "            res=res+(26**r)*temp\n",
    "        return res\n",
    "        "
   ]
  },
  {
   "cell_type": "code",
   "execution_count": 80,
   "id": "c134f0a1",
   "metadata": {},
   "outputs": [
    {
     "data": {
      "text/plain": [
       "2759"
      ]
     },
     "execution_count": 80,
     "metadata": {},
     "output_type": "execute_result"
    }
   ],
   "source": [
    "columnTitle='DBC'\n",
    "f=Solution\n",
    "f.titleToNumber(f,columnTitle)\n"
   ]
  }
 ],
 "metadata": {
  "kernelspec": {
   "display_name": "Python 3 (ipykernel)",
   "language": "python",
   "name": "python3"
  },
  "language_info": {
   "codemirror_mode": {
    "name": "ipython",
    "version": 3
   },
   "file_extension": ".py",
   "mimetype": "text/x-python",
   "name": "python",
   "nbconvert_exporter": "python",
   "pygments_lexer": "ipython3",
   "version": "3.9.12"
  }
 },
 "nbformat": 4,
 "nbformat_minor": 5
}
